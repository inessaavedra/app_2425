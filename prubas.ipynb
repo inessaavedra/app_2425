{
 "cells": [
  {
   "cell_type": "code",
   "execution_count": 2,
   "metadata": {},
   "outputs": [
    {
     "name": "stdout",
     "output_type": "stream",
     "text": [
      "Category\n",
      "Serie       28358\n",
      "Película     4160\n",
      "Name: count, dtype: int64\n"
     ]
    }
   ],
   "source": [
    "import pandas as pd\n",
    "\n",
    "# Carga los datos\n",
    "df = pd.read_csv('/Users/inessaavedra/Desktop/miapp/app_2425/App/src/ViewingActivity.csv')\n",
    "# Agregar una columna para categorizar en 'Serie' o 'Película'\n",
    "df['Category'] = df['Title'].apply(lambda x: 'Serie' if 'Season' in x or 'Episode' in x or 'Capítulo' in x or 'Temporada' in x else 'Película')\n",
    "\n",
    "# Diagnóstico de las categorías\n",
    "print(df['Category'].value_counts())\n"
   ]
  },
  {
   "cell_type": "code",
   "execution_count": null,
   "metadata": {},
   "outputs": [],
   "source": []
  }
 ],
 "metadata": {
  "kernelspec": {
   "display_name": "Python 3",
   "language": "python",
   "name": "python3"
  },
  "language_info": {
   "codemirror_mode": {
    "name": "ipython",
    "version": 3
   },
   "file_extension": ".py",
   "mimetype": "text/x-python",
   "name": "python",
   "nbconvert_exporter": "python",
   "pygments_lexer": "ipython3",
   "version": "3.11.5"
  }
 },
 "nbformat": 4,
 "nbformat_minor": 2
}
